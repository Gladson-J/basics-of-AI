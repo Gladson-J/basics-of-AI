{
 "cells": [
  {
   "cell_type": "code",
   "execution_count": 1,
   "id": "8f181e0d",
   "metadata": {},
   "outputs": [
    {
     "name": "stdout",
     "output_type": "stream",
     "text": [
      "Requirement already satisfied: opencv-python in c:\\users\\sn150\\anaconda3\\envs\\gladson_ai\\lib\\site-packages (4.7.0.68)\n",
      "Requirement already satisfied: numpy>=1.19.3 in c:\\users\\sn150\\anaconda3\\envs\\gladson_ai\\lib\\site-packages (from opencv-python) (1.24.1)\n",
      "Note: you may need to restart the kernel to use updated packages.\n"
     ]
    }
   ],
   "source": [
    "pip install opencv-python"
   ]
  },
  {
   "cell_type": "code",
   "execution_count": 2,
   "id": "71f7aa81",
   "metadata": {},
   "outputs": [],
   "source": [
    "import cv2\n"
   ]
  },
  {
   "cell_type": "markdown",
   "id": "646936a2",
   "metadata": {},
   "source": [
    "# image reading"
   ]
  },
  {
   "cell_type": "markdown",
   "id": "d035c3b1",
   "metadata": {},
   "source": [
    "img=cv2.imread(\"499660-nature-wallpaper-hd.jpg\")"
   ]
  },
  {
   "cell_type": "code",
   "execution_count": 26,
   "id": "062a4544",
   "metadata": {},
   "outputs": [],
   "source": [
    "grey=cv2.imread(\"499660-nature-wallpaper-hd.jpg\",0)"
   ]
  },
  {
   "cell_type": "code",
   "execution_count": 55,
   "id": "c2f8961a",
   "metadata": {},
   "outputs": [],
   "source": [
    "cv2.imshow(\"img\",img)\n",
    "cv2.imshow(\"grey\",grey)\n",
    "cv2.waitKey(0)\n",
    "cv2.destroyAllWindows()"
   ]
  },
  {
   "cell_type": "code",
   "execution_count": null,
   "id": "a7fb7445",
   "metadata": {},
   "outputs": [],
   "source": [
    "cv2.imshow(\"color\",img)"
   ]
  },
  {
   "cell_type": "markdown",
   "id": "b3ffcea0",
   "metadata": {},
   "source": [
    "# image writing"
   ]
  },
  {
   "cell_type": "code",
   "execution_count": 54,
   "id": "dc33ca58",
   "metadata": {},
   "outputs": [
    {
     "data": {
      "text/plain": [
       "True"
      ]
     },
     "execution_count": 54,
     "metadata": {},
     "output_type": "execute_result"
    }
   ],
   "source": [
    "cv2.imwrite('C:/image/grey image.jpg',grey)"
   ]
  },
  {
   "cell_type": "code",
   "execution_count": 33,
   "id": "1e1ce99f",
   "metadata": {},
   "outputs": [],
   "source": [
    "import numpy as nump"
   ]
  },
  {
   "cell_type": "markdown",
   "id": "99670c16",
   "metadata": {},
   "source": [
    "# shape"
   ]
  },
  {
   "cell_type": "code",
   "execution_count": 50,
   "id": "3580b3fd",
   "metadata": {},
   "outputs": [],
   "source": [
    "shape=img.shape"
   ]
  },
  {
   "cell_type": "code",
   "execution_count": 51,
   "id": "0258ba2e",
   "metadata": {},
   "outputs": [
    {
     "name": "stdout",
     "output_type": "stream",
     "text": [
      "(1600, 2560, 3)\n"
     ]
    }
   ],
   "source": [
    "print(shape)"
   ]
  },
  {
   "cell_type": "markdown",
   "id": "f01448b0",
   "metadata": {},
   "source": [
    "# size"
   ]
  },
  {
   "cell_type": "code",
   "execution_count": 42,
   "id": "a3b24d76",
   "metadata": {},
   "outputs": [],
   "source": [
    "sz=img.size"
   ]
  },
  {
   "cell_type": "code",
   "execution_count": 43,
   "id": "f6b3d9b1",
   "metadata": {},
   "outputs": [
    {
     "name": "stdout",
     "output_type": "stream",
     "text": [
      "12288000\n"
     ]
    }
   ],
   "source": [
    "print(sz)"
   ]
  },
  {
   "cell_type": "markdown",
   "id": "68ff7174",
   "metadata": {},
   "source": [
    "# value of an pixel"
   ]
  },
  {
   "cell_type": "code",
   "execution_count": 52,
   "id": "758ea89b",
   "metadata": {},
   "outputs": [],
   "source": [
    "px=img[30,40]"
   ]
  },
  {
   "cell_type": "code",
   "execution_count": 53,
   "id": "63f83b8f",
   "metadata": {},
   "outputs": [
    {
     "name": "stdout",
     "output_type": "stream",
     "text": [
      "[134  90   0]\n"
     ]
    }
   ],
   "source": [
    "print(px)"
   ]
  },
  {
   "cell_type": "code",
   "execution_count": null,
   "id": "5af472c4",
   "metadata": {},
   "outputs": [],
   "source": []
  }
 ],
 "metadata": {
  "kernelspec": {
   "display_name": "Python 3 (ipykernel)",
   "language": "python",
   "name": "python3"
  },
  "language_info": {
   "codemirror_mode": {
    "name": "ipython",
    "version": 3
   },
   "file_extension": ".py",
   "mimetype": "text/x-python",
   "name": "python",
   "nbconvert_exporter": "python",
   "pygments_lexer": "ipython3",
   "version": "3.9.16"
  }
 },
 "nbformat": 4,
 "nbformat_minor": 5
}
